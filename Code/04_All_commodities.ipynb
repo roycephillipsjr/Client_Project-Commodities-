{
 "cells": [
  {
   "cell_type": "markdown",
   "metadata": {},
   "source": [
    "# Code for Filtering NaN and Extracting GPS Location"
   ]
  },
  {
   "cell_type": "markdown",
   "metadata": {},
   "source": [
    "### Imports"
   ]
  },
  {
   "cell_type": "code",
   "execution_count": 1,
   "metadata": {},
   "outputs": [],
   "source": [
    "import pandas as pd\n",
    "import numpy as np"
   ]
  },
  {
   "cell_type": "markdown",
   "metadata": {},
   "source": [
    "### Reading tweets"
   ]
  },
  {
   "cell_type": "code",
   "execution_count": 3,
   "metadata": {},
   "outputs": [],
   "source": [
    "df = pd.read_csv('./all_commodities_tweets.csv')"
   ]
  },
  {
   "cell_type": "code",
   "execution_count": 4,
   "metadata": {},
   "outputs": [
    {
     "data": {
      "text/plain": [
       "(6189, 10)"
      ]
     },
     "execution_count": 4,
     "metadata": {},
     "output_type": "execute_result"
    }
   ],
   "source": [
    "df.shape"
   ]
  },
  {
   "cell_type": "code",
   "execution_count": 5,
   "metadata": {},
   "outputs": [
    {
     "data": {
      "text/html": [
       "<div>\n",
       "<style scoped>\n",
       "    .dataframe tbody tr th:only-of-type {\n",
       "        vertical-align: middle;\n",
       "    }\n",
       "\n",
       "    .dataframe tbody tr th {\n",
       "        vertical-align: top;\n",
       "    }\n",
       "\n",
       "    .dataframe thead th {\n",
       "        text-align: right;\n",
       "    }\n",
       "</style>\n",
       "<table border=\"1\" class=\"dataframe\">\n",
       "  <thead>\n",
       "    <tr style=\"text-align: right;\">\n",
       "      <th></th>\n",
       "      <th>tweets</th>\n",
       "      <th>id</th>\n",
       "      <th>name</th>\n",
       "      <th>location</th>\n",
       "      <th>coordinates</th>\n",
       "      <th>created_at</th>\n",
       "      <th>favorite_count</th>\n",
       "      <th>geo</th>\n",
       "      <th>place</th>\n",
       "      <th>source</th>\n",
       "    </tr>\n",
       "  </thead>\n",
       "  <tbody>\n",
       "    <tr>\n",
       "      <th>0</th>\n",
       "      <td>@Jim_Howard_13 @RepAndyBiggsAZ @RandPaul just ...</td>\n",
       "      <td>1.260339e+18</td>\n",
       "      <td>corporationsgonewild 🌊</td>\n",
       "      <td>any town USA</td>\n",
       "      <td>NaN</td>\n",
       "      <td>2020-05-12</td>\n",
       "      <td>1.0</td>\n",
       "      <td>NaN</td>\n",
       "      <td>NaN</td>\n",
       "      <td>Twitter Web App</td>\n",
       "    </tr>\n",
       "    <tr>\n",
       "      <th>1</th>\n",
       "      <td>Latest study of #Trump's proposed #COVID19 dru...</td>\n",
       "      <td>1.260334e+18</td>\n",
       "      <td>Darius</td>\n",
       "      <td>Berkeley, CA</td>\n",
       "      <td>NaN</td>\n",
       "      <td>2020-05-12</td>\n",
       "      <td>0.0</td>\n",
       "      <td>NaN</td>\n",
       "      <td>NaN</td>\n",
       "      <td>Twitter for Android</td>\n",
       "    </tr>\n",
       "    <tr>\n",
       "      <th>2</th>\n",
       "      <td>Restock!!\\r\\n\\r\\nClorox Fraganzia Multi-Purpos...</td>\n",
       "      <td>1.260322e+18</td>\n",
       "      <td>Find 😷 Essentials &amp; Save 💰 Shopping Online</td>\n",
       "      <td>NaN</td>\n",
       "      <td>NaN</td>\n",
       "      <td>2020-05-12</td>\n",
       "      <td>0.0</td>\n",
       "      <td>NaN</td>\n",
       "      <td>NaN</td>\n",
       "      <td>Twitter Web App</td>\n",
       "    </tr>\n",
       "    <tr>\n",
       "      <th>3</th>\n",
       "      <td>RT @ABC7: Searching high and low for #Clorox d...</td>\n",
       "      <td>1.260316e+18</td>\n",
       "      <td>jeaned62803</td>\n",
       "      <td>NaN</td>\n",
       "      <td>NaN</td>\n",
       "      <td>2020-05-12</td>\n",
       "      <td>0.0</td>\n",
       "      <td>NaN</td>\n",
       "      <td>NaN</td>\n",
       "      <td>Twitter for iPhone</td>\n",
       "    </tr>\n",
       "    <tr>\n",
       "      <th>4</th>\n",
       "      <td>😊\\r\\n[...] Alec #Baldwin returns as President ...</td>\n",
       "      <td>1.260315e+18</td>\n",
       "      <td>Desnot</td>\n",
       "      <td>Paris Bastille</td>\n",
       "      <td>NaN</td>\n",
       "      <td>2020-05-12</td>\n",
       "      <td>0.0</td>\n",
       "      <td>NaN</td>\n",
       "      <td>NaN</td>\n",
       "      <td>Twitter Web App</td>\n",
       "    </tr>\n",
       "  </tbody>\n",
       "</table>\n",
       "</div>"
      ],
      "text/plain": [
       "                                              tweets            id  \\\n",
       "0  @Jim_Howard_13 @RepAndyBiggsAZ @RandPaul just ...  1.260339e+18   \n",
       "1  Latest study of #Trump's proposed #COVID19 dru...  1.260334e+18   \n",
       "2  Restock!!\\r\\n\\r\\nClorox Fraganzia Multi-Purpos...  1.260322e+18   \n",
       "3  RT @ABC7: Searching high and low for #Clorox d...  1.260316e+18   \n",
       "4  😊\\r\\n[...] Alec #Baldwin returns as President ...  1.260315e+18   \n",
       "\n",
       "                                         name         location coordinates  \\\n",
       "0                      corporationsgonewild 🌊     any town USA         NaN   \n",
       "1                                      Darius     Berkeley, CA         NaN   \n",
       "2  Find 😷 Essentials & Save 💰 Shopping Online              NaN         NaN   \n",
       "3                                 jeaned62803              NaN         NaN   \n",
       "4                                      Desnot  Paris Bastille          NaN   \n",
       "\n",
       "   created_at  favorite_count  geo place               source  \n",
       "0  2020-05-12             1.0  NaN   NaN      Twitter Web App  \n",
       "1  2020-05-12             0.0  NaN   NaN  Twitter for Android  \n",
       "2  2020-05-12             0.0  NaN   NaN      Twitter Web App  \n",
       "3  2020-05-12             0.0  NaN   NaN   Twitter for iPhone  \n",
       "4  2020-05-12             0.0  NaN   NaN      Twitter Web App  "
      ]
     },
     "execution_count": 5,
     "metadata": {},
     "output_type": "execute_result"
    }
   ],
   "source": [
    "df.head()"
   ]
  },
  {
   "cell_type": "markdown",
   "metadata": {},
   "source": [
    "### Filtering Missing Data from DataFrame"
   ]
  },
  {
   "cell_type": "code",
   "execution_count": 12,
   "metadata": {},
   "outputs": [],
   "source": [
    "geo = df.loc[~df['place'].isna(), :]"
   ]
  },
  {
   "cell_type": "code",
   "execution_count": 20,
   "metadata": {},
   "outputs": [
    {
     "data": {
      "text/plain": [
       "(181, 10)"
      ]
     },
     "execution_count": 20,
     "metadata": {},
     "output_type": "execute_result"
    }
   ],
   "source": [
    "geo.shape"
   ]
  },
  {
   "cell_type": "code",
   "execution_count": 19,
   "metadata": {},
   "outputs": [
    {
     "data": {
      "text/plain": [
       "\"Place(_api=<tweepy.api.API object at 0x11430af10>, id='fee8b88f74a9763d', url='https://api.twitter.com/1.1/geo/id/fee8b88f74a9763d.json', place_type='city', name='Nogales', full_name='Nogales, Sonora', country_code='MX', country='Mexico', contained_within=[], bounding_box=BoundingBox(_api=<tweepy.api.API object at 0x11430af10>, type='Polygon', coordinates=[[[-111.3534711, 31.0072089], [-110.6493311, 31.0072089], [-110.6493311, 31.377975], [-111.3534711, 31.377975]]]), attributes={})\""
      ]
     },
     "execution_count": 19,
     "metadata": {},
     "output_type": "execute_result"
    }
   ],
   "source": [
    "geo.iloc[37, 8]."
   ]
  },
  {
   "cell_type": "code",
   "execution_count": 95,
   "metadata": {},
   "outputs": [],
   "source": [
    "str = \"Place(_api=<tweepy.api.API object at 0x11430af10>, id='fee8b88f74a9763d', url='https://api.twitter.com/1.1/geo/id/fee8b88f74a9763d.json', place_type='city', name='Nogales', full_name='Nogales, Sonora', country_code='MX', country='Mexico', contained_within=[], bounding_box=BoundingBox(_api=<tweepy.api.API object at 0x11430af10>, type='Polygon', coordinates=[[[-111.3534711, 31.0072089], [-110.6493311, 31.0072089], [-110.6493311, 31.377975], [-111.3534711, 31.377975]]]), attributes={})\""
   ]
  },
  {
   "cell_type": "markdown",
   "metadata": {},
   "source": [
    "### Function to Extract GPS Coordinates from 'place' Column"
   ]
  },
  {
   "cell_type": "code",
   "execution_count": 118,
   "metadata": {},
   "outputs": [],
   "source": [
    "# function to extract gps coordinates from the 'place' column. \n",
    "# returns latitude and longitude coordinates \n",
    "\n",
    "def get_gps(str):\n",
    "    gps_str = []\n",
    "    gps = []\n",
    "    lat, long = [0, 0]\n",
    "    place1 = str.split('coordinates=')[1][3:].split(']]]), attributes={})')[0].split('], [')\n",
    "    for i in place1:\n",
    "        gps_str.append(i.split(', '))\n",
    "#    print(gps_str)\n",
    "\n",
    "    for j in range(len(gps_str)):\n",
    "        for k in range(2):\n",
    "            gps.append(float(gps_str[j][k]))\n",
    "    \n",
    "#    print(gps)\n",
    "    for n in range(0, 4):\n",
    "        lat += gps[2*n+1] \n",
    "        long += gps[2*n]\n",
    "        \n",
    "    return [lat/4 , long/4]"
   ]
  },
  {
   "cell_type": "code",
   "execution_count": 119,
   "metadata": {},
   "outputs": [
    {
     "data": {
      "text/plain": [
       "[31.19259195, -111.0014011]"
      ]
     },
     "execution_count": 119,
     "metadata": {},
     "output_type": "execute_result"
    }
   ],
   "source": [
    "get_gps(str)"
   ]
  },
  {
   "cell_type": "markdown",
   "metadata": {},
   "source": [
    "### Mapping Function to 'place' Column"
   ]
  },
  {
   "cell_type": "code",
   "execution_count": 121,
   "metadata": {},
   "outputs": [
    {
     "name": "stderr",
     "output_type": "stream",
     "text": [
      "C:\\ProgramData\\Anaconda3\\lib\\site-packages\\ipykernel_launcher.py:1: SettingWithCopyWarning: \n",
      "A value is trying to be set on a copy of a slice from a DataFrame.\n",
      "Try using .loc[row_indexer,col_indexer] = value instead\n",
      "\n",
      "See the caveats in the documentation: https://pandas.pydata.org/pandas-docs/stable/user_guide/indexing.html#returning-a-view-versus-a-copy\n",
      "  \"\"\"Entry point for launching an IPython kernel.\n"
     ]
    }
   ],
   "source": [
    "geo['gps'] = geo['place'].map(get_gps)"
   ]
  },
  {
   "cell_type": "code",
   "execution_count": 123,
   "metadata": {},
   "outputs": [
    {
     "data": {
      "text/html": [
       "<div>\n",
       "<style scoped>\n",
       "    .dataframe tbody tr th:only-of-type {\n",
       "        vertical-align: middle;\n",
       "    }\n",
       "\n",
       "    .dataframe tbody tr th {\n",
       "        vertical-align: top;\n",
       "    }\n",
       "\n",
       "    .dataframe thead th {\n",
       "        text-align: right;\n",
       "    }\n",
       "</style>\n",
       "<table border=\"1\" class=\"dataframe\">\n",
       "  <thead>\n",
       "    <tr style=\"text-align: right;\">\n",
       "      <th></th>\n",
       "      <th>tweets</th>\n",
       "      <th>id</th>\n",
       "      <th>name</th>\n",
       "      <th>location</th>\n",
       "      <th>coordinates</th>\n",
       "      <th>created_at</th>\n",
       "      <th>favorite_count</th>\n",
       "      <th>geo</th>\n",
       "      <th>place</th>\n",
       "      <th>source</th>\n",
       "      <th>gps</th>\n",
       "    </tr>\n",
       "  </thead>\n",
       "  <tbody>\n",
       "    <tr>\n",
       "      <th>6061</th>\n",
       "      <td>I’m feeling confident with this inventory that...</td>\n",
       "      <td>1.257783e+18</td>\n",
       "      <td>MAR JENNINGS</td>\n",
       "      <td>CT/NY/LA/Palm Beach</td>\n",
       "      <td>NaN</td>\n",
       "      <td>2020-05-05</td>\n",
       "      <td>9.0</td>\n",
       "      <td>NaN</td>\n",
       "      <td>Place(_api=&lt;tweepy.api.API object at 0x11430af...</td>\n",
       "      <td>Twitter for iPhone</td>\n",
       "      <td>[41.144642, -73.3425245]</td>\n",
       "    </tr>\n",
       "    <tr>\n",
       "      <th>6090</th>\n",
       "      <td>I FOUND GOLD!!\\r\\n#ToiletPaper https://t.co/aU...</td>\n",
       "      <td>1.257763e+18</td>\n",
       "      <td>{~CaptainVG313~}</td>\n",
       "      <td>United States of America</td>\n",
       "      <td>NaN</td>\n",
       "      <td>2020-05-05</td>\n",
       "      <td>0.0</td>\n",
       "      <td>NaN</td>\n",
       "      <td>Place(_api=&lt;tweepy.api.API object at 0x11430af...</td>\n",
       "      <td>Twitter for Android</td>\n",
       "      <td>[30.199115109821854, -81.82494668408846]</td>\n",
       "    </tr>\n",
       "    <tr>\n",
       "      <th>6134</th>\n",
       "      <td>Shoutout to sushimakiofkendall for the 🧻 with ...</td>\n",
       "      <td>1.257445e+18</td>\n",
       "      <td>Ofelia</td>\n",
       "      <td>My Ami</td>\n",
       "      <td>{'type': 'Point', 'coordinates': [-80.38046315...</td>\n",
       "      <td>2020-05-04</td>\n",
       "      <td>1.0</td>\n",
       "      <td>{'type': 'Point', 'coordinates': [25.68704629,...</td>\n",
       "      <td>Place(_api=&lt;tweepy.api.API object at 0x11430af...</td>\n",
       "      <td>Instagram</td>\n",
       "      <td>[25.6719858, -80.34711985]</td>\n",
       "    </tr>\n",
       "    <tr>\n",
       "      <th>6170</th>\n",
       "      <td>#thestruggleisreal #toiletpaper\\r\\n#corona19 #...</td>\n",
       "      <td>1.257423e+18</td>\n",
       "      <td>maxziegfeld</td>\n",
       "      <td>North Hollywood, Los Angeles</td>\n",
       "      <td>{'type': 'Point', 'coordinates': [-118.378, 34...</td>\n",
       "      <td>2020-05-04</td>\n",
       "      <td>0.0</td>\n",
       "      <td>{'type': 'Point', 'coordinates': [34.1722, -11...</td>\n",
       "      <td>Place(_api=&lt;tweepy.api.API object at 0x11430af...</td>\n",
       "      <td>Instagram</td>\n",
       "      <td>[34.0207895, -118.4119065]</td>\n",
       "    </tr>\n",
       "    <tr>\n",
       "      <th>6175</th>\n",
       "      <td>Incredible, there are people like this in the ...</td>\n",
       "      <td>1.257421e+18</td>\n",
       "      <td>Dan Osorio</td>\n",
       "      <td>New York, USA</td>\n",
       "      <td>{'type': 'Point', 'coordinates': [-73.113, 40....</td>\n",
       "      <td>2020-05-04</td>\n",
       "      <td>0.0</td>\n",
       "      <td>{'type': 'Point', 'coordinates': [40.8297, -73...</td>\n",
       "      <td>Place(_api=&lt;tweepy.api.API object at 0x11430af...</td>\n",
       "      <td>Instagram</td>\n",
       "      <td>[40.8305215, -73.1152225]</td>\n",
       "    </tr>\n",
       "  </tbody>\n",
       "</table>\n",
       "</div>"
      ],
      "text/plain": [
       "                                                 tweets            id  \\\n",
       "6061  I’m feeling confident with this inventory that...  1.257783e+18   \n",
       "6090  I FOUND GOLD!!\\r\\n#ToiletPaper https://t.co/aU...  1.257763e+18   \n",
       "6134  Shoutout to sushimakiofkendall for the 🧻 with ...  1.257445e+18   \n",
       "6170  #thestruggleisreal #toiletpaper\\r\\n#corona19 #...  1.257423e+18   \n",
       "6175  Incredible, there are people like this in the ...  1.257421e+18   \n",
       "\n",
       "                  name                      location  \\\n",
       "6061      MAR JENNINGS           CT/NY/LA/Palm Beach   \n",
       "6090  {~CaptainVG313~}      United States of America   \n",
       "6134            Ofelia                        My Ami   \n",
       "6170       maxziegfeld  North Hollywood, Los Angeles   \n",
       "6175        Dan Osorio                 New York, USA   \n",
       "\n",
       "                                            coordinates  created_at  \\\n",
       "6061                                                NaN  2020-05-05   \n",
       "6090                                                NaN  2020-05-05   \n",
       "6134  {'type': 'Point', 'coordinates': [-80.38046315...  2020-05-04   \n",
       "6170  {'type': 'Point', 'coordinates': [-118.378, 34...  2020-05-04   \n",
       "6175  {'type': 'Point', 'coordinates': [-73.113, 40....  2020-05-04   \n",
       "\n",
       "      favorite_count                                                geo  \\\n",
       "6061             9.0                                                NaN   \n",
       "6090             0.0                                                NaN   \n",
       "6134             1.0  {'type': 'Point', 'coordinates': [25.68704629,...   \n",
       "6170             0.0  {'type': 'Point', 'coordinates': [34.1722, -11...   \n",
       "6175             0.0  {'type': 'Point', 'coordinates': [40.8297, -73...   \n",
       "\n",
       "                                                  place               source  \\\n",
       "6061  Place(_api=<tweepy.api.API object at 0x11430af...   Twitter for iPhone   \n",
       "6090  Place(_api=<tweepy.api.API object at 0x11430af...  Twitter for Android   \n",
       "6134  Place(_api=<tweepy.api.API object at 0x11430af...            Instagram   \n",
       "6170  Place(_api=<tweepy.api.API object at 0x11430af...            Instagram   \n",
       "6175  Place(_api=<tweepy.api.API object at 0x11430af...            Instagram   \n",
       "\n",
       "                                           gps  \n",
       "6061                  [41.144642, -73.3425245]  \n",
       "6090  [30.199115109821854, -81.82494668408846]  \n",
       "6134                [25.6719858, -80.34711985]  \n",
       "6170                [34.0207895, -118.4119065]  \n",
       "6175                 [40.8305215, -73.1152225]  "
      ]
     },
     "execution_count": 123,
     "metadata": {},
     "output_type": "execute_result"
    }
   ],
   "source": [
    "geo.tail()"
   ]
  },
  {
   "cell_type": "markdown",
   "metadata": {},
   "source": [
    "### Write DataFrame to csv File"
   ]
  },
  {
   "cell_type": "code",
   "execution_count": 124,
   "metadata": {},
   "outputs": [],
   "source": [
    "geo.to_csv('./tweets_gps.csv')"
   ]
  },
  {
   "cell_type": "code",
   "execution_count": null,
   "metadata": {},
   "outputs": [],
   "source": []
  }
 ],
 "metadata": {
  "kernelspec": {
   "display_name": "Python 3",
   "language": "python",
   "name": "python3"
  },
  "language_info": {
   "codemirror_mode": {
    "name": "ipython",
    "version": 3
   },
   "file_extension": ".py",
   "mimetype": "text/x-python",
   "name": "python",
   "nbconvert_exporter": "python",
   "pygments_lexer": "ipython3",
   "version": "3.7.6"
  }
 },
 "nbformat": 4,
 "nbformat_minor": 4
}
