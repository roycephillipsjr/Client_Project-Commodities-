{
 "cells": [
  {
   "cell_type": "markdown",
   "metadata": {},
   "source": [
    "# Grabbing Some Initial Coordinates"
   ]
  },
  {
   "cell_type": "markdown",
   "metadata": {},
   "source": [
    "This notebook was mostly used to check how many tweets had coordinates. \n",
    "We also wanted to look at and read the quality of the tweets. How many of the coordinates were useful or not.\n",
    "I also wanted to give the coordinate to Jeong so that he could start using the Google Map API a little more. "
   ]
  },
  {
   "cell_type": "code",
   "execution_count": 2,
   "metadata": {},
   "outputs": [],
   "source": [
    "import pandas as pd"
   ]
  },
  {
   "cell_type": "code",
   "execution_count": 3,
   "metadata": {},
   "outputs": [],
   "source": [
    "# Reading in CSV\n",
    "all_tweets = pd.read_csv('../datasets/all_commodities_tweets.csv')"
   ]
  },
  {
   "cell_type": "code",
   "execution_count": 4,
   "metadata": {},
   "outputs": [
    {
     "data": {
      "text/html": [
       "<div>\n",
       "<style scoped>\n",
       "    .dataframe tbody tr th:only-of-type {\n",
       "        vertical-align: middle;\n",
       "    }\n",
       "\n",
       "    .dataframe tbody tr th {\n",
       "        vertical-align: top;\n",
       "    }\n",
       "\n",
       "    .dataframe thead th {\n",
       "        text-align: right;\n",
       "    }\n",
       "</style>\n",
       "<table border=\"1\" class=\"dataframe\">\n",
       "  <thead>\n",
       "    <tr style=\"text-align: right;\">\n",
       "      <th></th>\n",
       "      <th>tweets</th>\n",
       "      <th>id</th>\n",
       "      <th>name</th>\n",
       "      <th>location</th>\n",
       "      <th>coordinates</th>\n",
       "      <th>created_at</th>\n",
       "      <th>favorite_count</th>\n",
       "      <th>geo</th>\n",
       "      <th>place</th>\n",
       "      <th>source</th>\n",
       "    </tr>\n",
       "  </thead>\n",
       "  <tbody>\n",
       "    <tr>\n",
       "      <th>0</th>\n",
       "      <td>@Jim_Howard_13 @RepAndyBiggsAZ @RandPaul just ...</td>\n",
       "      <td>1.260339e+18</td>\n",
       "      <td>corporationsgonewild 🌊</td>\n",
       "      <td>any town USA</td>\n",
       "      <td>NaN</td>\n",
       "      <td>2020-05-12</td>\n",
       "      <td>1.0</td>\n",
       "      <td>NaN</td>\n",
       "      <td>NaN</td>\n",
       "      <td>Twitter Web App</td>\n",
       "    </tr>\n",
       "    <tr>\n",
       "      <th>1</th>\n",
       "      <td>Latest study of #Trump's proposed #COVID19 dru...</td>\n",
       "      <td>1.260334e+18</td>\n",
       "      <td>Darius</td>\n",
       "      <td>Berkeley, CA</td>\n",
       "      <td>NaN</td>\n",
       "      <td>2020-05-12</td>\n",
       "      <td>0.0</td>\n",
       "      <td>NaN</td>\n",
       "      <td>NaN</td>\n",
       "      <td>Twitter for Android</td>\n",
       "    </tr>\n",
       "    <tr>\n",
       "      <th>2</th>\n",
       "      <td>Restock!!\\n\\nClorox Fraganzia Multi-Purpose Cl...</td>\n",
       "      <td>1.260322e+18</td>\n",
       "      <td>Find 😷 Essentials &amp; Save 💰 Shopping Online</td>\n",
       "      <td>NaN</td>\n",
       "      <td>NaN</td>\n",
       "      <td>2020-05-12</td>\n",
       "      <td>0.0</td>\n",
       "      <td>NaN</td>\n",
       "      <td>NaN</td>\n",
       "      <td>Twitter Web App</td>\n",
       "    </tr>\n",
       "    <tr>\n",
       "      <th>3</th>\n",
       "      <td>RT @ABC7: Searching high and low for #Clorox d...</td>\n",
       "      <td>1.260316e+18</td>\n",
       "      <td>jeaned62803</td>\n",
       "      <td>NaN</td>\n",
       "      <td>NaN</td>\n",
       "      <td>2020-05-12</td>\n",
       "      <td>0.0</td>\n",
       "      <td>NaN</td>\n",
       "      <td>NaN</td>\n",
       "      <td>Twitter for iPhone</td>\n",
       "    </tr>\n",
       "    <tr>\n",
       "      <th>4</th>\n",
       "      <td>😊\\n[...] Alec #Baldwin returns as President #T...</td>\n",
       "      <td>1.260315e+18</td>\n",
       "      <td>Desnot</td>\n",
       "      <td>Paris Bastille</td>\n",
       "      <td>NaN</td>\n",
       "      <td>2020-05-12</td>\n",
       "      <td>0.0</td>\n",
       "      <td>NaN</td>\n",
       "      <td>NaN</td>\n",
       "      <td>Twitter Web App</td>\n",
       "    </tr>\n",
       "    <tr>\n",
       "      <th>...</th>\n",
       "      <td>...</td>\n",
       "      <td>...</td>\n",
       "      <td>...</td>\n",
       "      <td>...</td>\n",
       "      <td>...</td>\n",
       "      <td>...</td>\n",
       "      <td>...</td>\n",
       "      <td>...</td>\n",
       "      <td>...</td>\n",
       "      <td>...</td>\n",
       "    </tr>\n",
       "    <tr>\n",
       "      <th>6184</th>\n",
       "      <td>Scott Rapid-Dissolving Toilet Paper 8 rolls in...</td>\n",
       "      <td>1.257415e+18</td>\n",
       "      <td>Toilet Paper Tracker</td>\n",
       "      <td>NaN</td>\n",
       "      <td>NaN</td>\n",
       "      <td>2020-05-04</td>\n",
       "      <td>0.0</td>\n",
       "      <td>NaN</td>\n",
       "      <td>NaN</td>\n",
       "      <td>xboxonelocator</td>\n",
       "    </tr>\n",
       "    <tr>\n",
       "      <th>6185</th>\n",
       "      <td>#Teachers, #Librarians &amp;amp; #Parents: Here's ...</td>\n",
       "      <td>1.257414e+18</td>\n",
       "      <td>Donna Gephart</td>\n",
       "      <td>NaN</td>\n",
       "      <td>NaN</td>\n",
       "      <td>2020-05-04</td>\n",
       "      <td>6.0</td>\n",
       "      <td>NaN</td>\n",
       "      <td>NaN</td>\n",
       "      <td>Twitter Web App</td>\n",
       "    </tr>\n",
       "    <tr>\n",
       "      <th>6186</th>\n",
       "      <td>RT @ReinasWorld2020: @rebel_fla @deplorable_ru...</td>\n",
       "      <td>1.257413e+18</td>\n",
       "      <td>Hurricane</td>\n",
       "      <td>NaN</td>\n",
       "      <td>NaN</td>\n",
       "      <td>2020-05-04</td>\n",
       "      <td>0.0</td>\n",
       "      <td>NaN</td>\n",
       "      <td>NaN</td>\n",
       "      <td>Twitter for Android</td>\n",
       "    </tr>\n",
       "    <tr>\n",
       "      <th>6187</th>\n",
       "      <td>That explains a lot 😂                         ...</td>\n",
       "      <td>1.257412e+18</td>\n",
       "      <td>Jessica Weber</td>\n",
       "      <td>Ontario, Canada</td>\n",
       "      <td>NaN</td>\n",
       "      <td>2020-05-04</td>\n",
       "      <td>0.0</td>\n",
       "      <td>NaN</td>\n",
       "      <td>NaN</td>\n",
       "      <td>Instagram</td>\n",
       "    </tr>\n",
       "    <tr>\n",
       "      <th>6188</th>\n",
       "      <td>RT @ReinasWorld2020: @rebel_fla @deplorable_ru...</td>\n",
       "      <td>1.257412e+18</td>\n",
       "      <td>Melinda Roberts ⭐⭐⭐</td>\n",
       "      <td>The Right</td>\n",
       "      <td>NaN</td>\n",
       "      <td>2020-05-04</td>\n",
       "      <td>0.0</td>\n",
       "      <td>NaN</td>\n",
       "      <td>NaN</td>\n",
       "      <td>Twitter for Android</td>\n",
       "    </tr>\n",
       "  </tbody>\n",
       "</table>\n",
       "<p>6189 rows × 10 columns</p>\n",
       "</div>"
      ],
      "text/plain": [
       "                                                 tweets            id  \\\n",
       "0     @Jim_Howard_13 @RepAndyBiggsAZ @RandPaul just ...  1.260339e+18   \n",
       "1     Latest study of #Trump's proposed #COVID19 dru...  1.260334e+18   \n",
       "2     Restock!!\\n\\nClorox Fraganzia Multi-Purpose Cl...  1.260322e+18   \n",
       "3     RT @ABC7: Searching high and low for #Clorox d...  1.260316e+18   \n",
       "4     😊\\n[...] Alec #Baldwin returns as President #T...  1.260315e+18   \n",
       "...                                                 ...           ...   \n",
       "6184  Scott Rapid-Dissolving Toilet Paper 8 rolls in...  1.257415e+18   \n",
       "6185  #Teachers, #Librarians &amp; #Parents: Here's ...  1.257414e+18   \n",
       "6186  RT @ReinasWorld2020: @rebel_fla @deplorable_ru...  1.257413e+18   \n",
       "6187  That explains a lot 😂                         ...  1.257412e+18   \n",
       "6188  RT @ReinasWorld2020: @rebel_fla @deplorable_ru...  1.257412e+18   \n",
       "\n",
       "                                            name         location coordinates  \\\n",
       "0                         corporationsgonewild 🌊     any town USA         NaN   \n",
       "1                                         Darius     Berkeley, CA         NaN   \n",
       "2     Find 😷 Essentials & Save 💰 Shopping Online              NaN         NaN   \n",
       "3                                    jeaned62803              NaN         NaN   \n",
       "4                                         Desnot  Paris Bastille          NaN   \n",
       "...                                          ...              ...         ...   \n",
       "6184                        Toilet Paper Tracker              NaN         NaN   \n",
       "6185                               Donna Gephart              NaN         NaN   \n",
       "6186                                   Hurricane              NaN         NaN   \n",
       "6187                               Jessica Weber  Ontario, Canada         NaN   \n",
       "6188                         Melinda Roberts ⭐⭐⭐        The Right         NaN   \n",
       "\n",
       "      created_at  favorite_count  geo place               source  \n",
       "0     2020-05-12             1.0  NaN   NaN      Twitter Web App  \n",
       "1     2020-05-12             0.0  NaN   NaN  Twitter for Android  \n",
       "2     2020-05-12             0.0  NaN   NaN      Twitter Web App  \n",
       "3     2020-05-12             0.0  NaN   NaN   Twitter for iPhone  \n",
       "4     2020-05-12             0.0  NaN   NaN      Twitter Web App  \n",
       "...          ...             ...  ...   ...                  ...  \n",
       "6184  2020-05-04             0.0  NaN   NaN       xboxonelocator  \n",
       "6185  2020-05-04             6.0  NaN   NaN      Twitter Web App  \n",
       "6186  2020-05-04             0.0  NaN   NaN  Twitter for Android  \n",
       "6187  2020-05-04             0.0  NaN   NaN            Instagram  \n",
       "6188  2020-05-04             0.0  NaN   NaN  Twitter for Android  \n",
       "\n",
       "[6189 rows x 10 columns]"
      ]
     },
     "execution_count": 4,
     "metadata": {},
     "output_type": "execute_result"
    }
   ],
   "source": [
    "# Checking to see if it read properly and if I create the CSV properly\n",
    "all_tweets"
   ]
  },
  {
   "cell_type": "code",
   "execution_count": 10,
   "metadata": {},
   "outputs": [],
   "source": [
    "# Filtering out the tweets with geo location\n",
    "tweets_with_geo = all_tweets.loc[~all_tweets['geo'].isnull()]"
   ]
  },
  {
   "cell_type": "code",
   "execution_count": 15,
   "metadata": {},
   "outputs": [
    {
     "data": {
      "text/plain": [
       "{'type': 'Point', 'coordinates': [40.7142, -74.0064]}             3\n",
       "{'type': 'Point', 'coordinates': [40.7352, -74.1849]}             2\n",
       "{'type': 'Point', 'coordinates': [37.7793, -122.419]}             1\n",
       "{'type': 'Point', 'coordinates': [45.4167, -75.7]}                1\n",
       "{'type': 'Point', 'coordinates': [9.00042816, -79.52101545]}      1\n",
       "{'type': 'Point', 'coordinates': [44.96629517, -93.07325315]}     1\n",
       "{'type': 'Point', 'coordinates': [43.3772, -73.6136]}             1\n",
       "{'type': 'Point', 'coordinates': [32.8695093, -96.6797152]}       1\n",
       "{'type': 'Point', 'coordinates': [18.4715, -69.8927]}             1\n",
       "{'type': 'Point', 'coordinates': [39.7603, -84.1965]}             1\n",
       "{'type': 'Point', 'coordinates': [28.56006986, -81.82137357]}     1\n",
       "{'type': 'Point', 'coordinates': [43.5154, -79.62653]}            1\n",
       "{'type': 'Point', 'coordinates': [18.46469095, -69.9591136]}      1\n",
       "{'type': 'Point', 'coordinates': [19.0627, 72.8764]}              1\n",
       "{'type': 'Point', 'coordinates': [49.24444427, -119.52532768]}    1\n",
       "{'type': 'Point', 'coordinates': [36.1798464, -86.78906462]}      1\n",
       "{'type': 'Point', 'coordinates': [34.03021986, -118.4440835]}     1\n",
       "{'type': 'Point', 'coordinates': [46.50105096, -84.34907913]}     1\n",
       "{'type': 'Point', 'coordinates': [36.140987, -86.772124]}         1\n",
       "{'type': 'Point', 'coordinates': [42.1296, -87.8311]}             1\n",
       "{'type': 'Point', 'coordinates': [49.8494, -99.9619]}             1\n",
       "{'type': 'Point', 'coordinates': [25.68704629, -80.38046315]}     1\n",
       "{'type': 'Point', 'coordinates': [35.0873, -106.6506]}            1\n",
       "{'type': 'Point', 'coordinates': [35.04049246, -85.68161077]}     1\n",
       "{'type': 'Point', 'coordinates': [34.3483744, -93.2968314]}       1\n",
       "{'type': 'Point', 'coordinates': [6.45306, 3.39583]}              1\n",
       "{'type': 'Point', 'coordinates': [45.4201767, -122.78649566]}     1\n",
       "{'type': 'Point', 'coordinates': [43.26, -79.8761]}               1\n",
       "{'type': 'Point', 'coordinates': [38.2525, -85.7554]}             1\n",
       "{'type': 'Point', 'coordinates': [33.76443, -84.35005]}           1\n",
       "{'type': 'Point', 'coordinates': [43.45, -80.4833]}               1\n",
       "{'type': 'Point', 'coordinates': [41.7114, -83.7032]}             1\n",
       "{'type': 'Point', 'coordinates': [43.79039901, -80.14427771]}     1\n",
       "{'type': 'Point', 'coordinates': [35.91572, -79.06188]}           1\n",
       "{'type': 'Point', 'coordinates': [52.51473999, 13.45402394]}      1\n",
       "{'type': 'Point', 'coordinates': [33.94283183, -118.33342164]}    1\n",
       "{'type': 'Point', 'coordinates': [38.983669, -77.094765]}         1\n",
       "{'type': 'Point', 'coordinates': [46.5425899, -72.7519499]}       1\n",
       "{'type': 'Point', 'coordinates': [36.18905773, -115.05810742]}    1\n",
       "{'type': 'Point', 'coordinates': [26.15636098, -80.13861964]}     1\n",
       "{'type': 'Point', 'coordinates': [47.22992075, -123.12409861]}    1\n",
       "{'type': 'Point', 'coordinates': [27.9736, -82.7643]}             1\n",
       "{'type': 'Point', 'coordinates': [41.883222, -87.632496]}         1\n",
       "{'type': 'Point', 'coordinates': [33.8281, -118.06312]}           1\n",
       "{'type': 'Point', 'coordinates': [40.87787, -73.90277]}           1\n",
       "{'type': 'Point', 'coordinates': [40.73152008, -111.90099645]}    1\n",
       "{'type': 'Point', 'coordinates': [34.0564, -118.2445]}            1\n",
       "{'type': 'Point', 'coordinates': [34.1722, -118.378]}             1\n",
       "{'type': 'Point', 'coordinates': [27.4856, -99.5071]}             1\n",
       "{'type': 'Point', 'coordinates': [44.95905, -92.95983]}           1\n",
       "{'type': 'Point', 'coordinates': [40.8297, -73.113]}              1\n",
       "{'type': 'Point', 'coordinates': [36.1651, -86.7837]}             1\n",
       "Name: geo, dtype: int64"
      ]
     },
     "execution_count": 15,
     "metadata": {},
     "output_type": "execute_result"
    }
   ],
   "source": [
    "# I was interested to see what the coordinates of tweets were\n",
    "# There was also interest to see if there would be any duplicate coordintes\n",
    "tweets_with_geo['geo'].value_counts()"
   ]
  },
  {
   "cell_type": "code",
   "execution_count": 25,
   "metadata": {},
   "outputs": [
    {
     "data": {
      "text/plain": [
       "tweets            55\n",
       "id                55\n",
       "name              55\n",
       "location          54\n",
       "coordinates       55\n",
       "created_at        55\n",
       "favorite_count    55\n",
       "geo               55\n",
       "place             55\n",
       "source            55\n",
       "dtype: int64"
      ]
     },
     "execution_count": 25,
     "metadata": {},
     "output_type": "execute_result"
    }
   ],
   "source": [
    "tweets_with_geo.count()"
   ]
  },
  {
   "cell_type": "code",
   "execution_count": 29,
   "metadata": {},
   "outputs": [
    {
     "data": {
      "text/html": [
       "<div>\n",
       "<style scoped>\n",
       "    .dataframe tbody tr th:only-of-type {\n",
       "        vertical-align: middle;\n",
       "    }\n",
       "\n",
       "    .dataframe tbody tr th {\n",
       "        vertical-align: top;\n",
       "    }\n",
       "\n",
       "    .dataframe thead th {\n",
       "        text-align: right;\n",
       "    }\n",
       "</style>\n",
       "<table border=\"1\" class=\"dataframe\">\n",
       "  <thead>\n",
       "    <tr style=\"text-align: right;\">\n",
       "      <th></th>\n",
       "      <th>tweets</th>\n",
       "      <th>id</th>\n",
       "      <th>name</th>\n",
       "      <th>location</th>\n",
       "      <th>coordinates</th>\n",
       "      <th>created_at</th>\n",
       "      <th>favorite_count</th>\n",
       "      <th>geo</th>\n",
       "      <th>place</th>\n",
       "      <th>source</th>\n",
       "    </tr>\n",
       "  </thead>\n",
       "  <tbody>\n",
       "    <tr>\n",
       "      <th>2162</th>\n",
       "      <td>LIFE BEYOND CONTROL .\\n.\\n.\\n.\\n#kiss #illustr...</td>\n",
       "      <td>1.259266e+18</td>\n",
       "      <td>MelodyHesaraky</td>\n",
       "      <td>Brooklyn , New York</td>\n",
       "      <td>{'type': 'Point', 'coordinates': [-74.0064, 40...</td>\n",
       "      <td>2020-05-09</td>\n",
       "      <td>0.0</td>\n",
       "      <td>{'type': 'Point', 'coordinates': [40.7142, -74...</td>\n",
       "      <td>Place(_api=&lt;tweepy.api.API object at 0x11430af...</td>\n",
       "      <td>Instagram</td>\n",
       "    </tr>\n",
       "    <tr>\n",
       "      <th>3928</th>\n",
       "      <td>Do you have what is needed to be safe ? shield...</td>\n",
       "      <td>1.259190e+18</td>\n",
       "      <td>Rocio Zegarra</td>\n",
       "      <td>Queens, NY</td>\n",
       "      <td>{'type': 'Point', 'coordinates': [-74.0064, 40...</td>\n",
       "      <td>2020-05-09</td>\n",
       "      <td>0.0</td>\n",
       "      <td>{'type': 'Point', 'coordinates': [40.7142, -74...</td>\n",
       "      <td>Place(_api=&lt;tweepy.api.API object at 0x11430af...</td>\n",
       "      <td>Instagram</td>\n",
       "    </tr>\n",
       "    <tr>\n",
       "      <th>3932</th>\n",
       "      <td>Very easy to start shopping for your essential...</td>\n",
       "      <td>1.259182e+18</td>\n",
       "      <td>Rocio Zegarra</td>\n",
       "      <td>Queens, NY</td>\n",
       "      <td>{'type': 'Point', 'coordinates': [-74.0064, 40...</td>\n",
       "      <td>2020-05-09</td>\n",
       "      <td>0.0</td>\n",
       "      <td>{'type': 'Point', 'coordinates': [40.7142, -74...</td>\n",
       "      <td>Place(_api=&lt;tweepy.api.API object at 0x11430af...</td>\n",
       "      <td>Instagram</td>\n",
       "    </tr>\n",
       "  </tbody>\n",
       "</table>\n",
       "</div>"
      ],
      "text/plain": [
       "                                                 tweets            id  \\\n",
       "2162  LIFE BEYOND CONTROL .\\n.\\n.\\n.\\n#kiss #illustr...  1.259266e+18   \n",
       "3928  Do you have what is needed to be safe ? shield...  1.259190e+18   \n",
       "3932  Very easy to start shopping for your essential...  1.259182e+18   \n",
       "\n",
       "                name              location  \\\n",
       "2162  MelodyHesaraky  Brooklyn , New York    \n",
       "3928   Rocio Zegarra            Queens, NY   \n",
       "3932   Rocio Zegarra            Queens, NY   \n",
       "\n",
       "                                            coordinates  created_at  \\\n",
       "2162  {'type': 'Point', 'coordinates': [-74.0064, 40...  2020-05-09   \n",
       "3928  {'type': 'Point', 'coordinates': [-74.0064, 40...  2020-05-09   \n",
       "3932  {'type': 'Point', 'coordinates': [-74.0064, 40...  2020-05-09   \n",
       "\n",
       "      favorite_count                                                geo  \\\n",
       "2162             0.0  {'type': 'Point', 'coordinates': [40.7142, -74...   \n",
       "3928             0.0  {'type': 'Point', 'coordinates': [40.7142, -74...   \n",
       "3932             0.0  {'type': 'Point', 'coordinates': [40.7142, -74...   \n",
       "\n",
       "                                                  place     source  \n",
       "2162  Place(_api=<tweepy.api.API object at 0x11430af...  Instagram  \n",
       "3928  Place(_api=<tweepy.api.API object at 0x11430af...  Instagram  \n",
       "3932  Place(_api=<tweepy.api.API object at 0x11430af...  Instagram  "
      ]
     },
     "execution_count": 29,
     "metadata": {},
     "output_type": "execute_result"
    }
   ],
   "source": [
    "# Checking out the coordinates that had multiple tweets and seeing who posted and where\n",
    "tweets_with_geo.loc[tweets_with_geo['geo'] == \"{'type': 'Point', 'coordinates': [40.7142, -74.0064]}\", :]"
   ]
  },
  {
   "cell_type": "code",
   "execution_count": 30,
   "metadata": {},
   "outputs": [
    {
     "data": {
      "text/html": [
       "<div>\n",
       "<style scoped>\n",
       "    .dataframe tbody tr th:only-of-type {\n",
       "        vertical-align: middle;\n",
       "    }\n",
       "\n",
       "    .dataframe tbody tr th {\n",
       "        vertical-align: top;\n",
       "    }\n",
       "\n",
       "    .dataframe thead th {\n",
       "        text-align: right;\n",
       "    }\n",
       "</style>\n",
       "<table border=\"1\" class=\"dataframe\">\n",
       "  <thead>\n",
       "    <tr style=\"text-align: right;\">\n",
       "      <th></th>\n",
       "      <th>tweets</th>\n",
       "      <th>id</th>\n",
       "      <th>name</th>\n",
       "      <th>location</th>\n",
       "      <th>coordinates</th>\n",
       "      <th>created_at</th>\n",
       "      <th>favorite_count</th>\n",
       "      <th>geo</th>\n",
       "      <th>place</th>\n",
       "      <th>source</th>\n",
       "    </tr>\n",
       "  </thead>\n",
       "  <tbody>\n",
       "    <tr>\n",
       "      <th>1411</th>\n",
       "      <td>Something dealing with #Lysol it may not be wh...</td>\n",
       "      <td>1.259477e+18</td>\n",
       "      <td>REAL NEWARKER</td>\n",
       "      <td>ATL</td>\n",
       "      <td>{'type': 'Point', 'coordinates': [-74.1849, 40...</td>\n",
       "      <td>2020-05-10</td>\n",
       "      <td>0.0</td>\n",
       "      <td>{'type': 'Point', 'coordinates': [40.7352, -74...</td>\n",
       "      <td>Place(_api=&lt;tweepy.api.API object at 0x11430af...</td>\n",
       "      <td>Instagram</td>\n",
       "    </tr>\n",
       "    <tr>\n",
       "      <th>1503</th>\n",
       "      <td>I’m trying to make my mother a #MotherDaybaske...</td>\n",
       "      <td>1.258744e+18</td>\n",
       "      <td>REAL NEWARKER</td>\n",
       "      <td>ATL</td>\n",
       "      <td>{'type': 'Point', 'coordinates': [-74.1849, 40...</td>\n",
       "      <td>2020-05-08</td>\n",
       "      <td>0.0</td>\n",
       "      <td>{'type': 'Point', 'coordinates': [40.7352, -74...</td>\n",
       "      <td>Place(_api=&lt;tweepy.api.API object at 0x11430af...</td>\n",
       "      <td>Instagram</td>\n",
       "    </tr>\n",
       "  </tbody>\n",
       "</table>\n",
       "</div>"
      ],
      "text/plain": [
       "                                                 tweets            id  \\\n",
       "1411  Something dealing with #Lysol it may not be wh...  1.259477e+18   \n",
       "1503  I’m trying to make my mother a #MotherDaybaske...  1.258744e+18   \n",
       "\n",
       "               name location  \\\n",
       "1411  REAL NEWARKER      ATL   \n",
       "1503  REAL NEWARKER      ATL   \n",
       "\n",
       "                                            coordinates  created_at  \\\n",
       "1411  {'type': 'Point', 'coordinates': [-74.1849, 40...  2020-05-10   \n",
       "1503  {'type': 'Point', 'coordinates': [-74.1849, 40...  2020-05-08   \n",
       "\n",
       "      favorite_count                                                geo  \\\n",
       "1411             0.0  {'type': 'Point', 'coordinates': [40.7352, -74...   \n",
       "1503             0.0  {'type': 'Point', 'coordinates': [40.7352, -74...   \n",
       "\n",
       "                                                  place     source  \n",
       "1411  Place(_api=<tweepy.api.API object at 0x11430af...  Instagram  \n",
       "1503  Place(_api=<tweepy.api.API object at 0x11430af...  Instagram  "
      ]
     },
     "execution_count": 30,
     "metadata": {},
     "output_type": "execute_result"
    }
   ],
   "source": [
    "# Checking out the coordinates that had multiple tweets and seeing who posted and where\n",
    "tweets_with_geo.loc[tweets_with_geo['geo'] == \"{'type': 'Point', 'coordinates': [40.7352, -74.1849]}\", :]"
   ]
  },
  {
   "cell_type": "code",
   "execution_count": 40,
   "metadata": {},
   "outputs": [
    {
     "data": {
      "text/plain": [
       "37      I have searched from Knoxville to Ooltewah to ...\n",
       "239     We only get a few here and there but we like t...\n",
       "418     Hangout with my best friends🙂 #Lysol #Clorox #...\n",
       "1381    Organiza tu lista de compras y recibe tus comp...\n",
       "1405    Entregamos tus pedidos en el menor tiempo posi...\n",
       "1411    Something dealing with #Lysol it may not be wh...\n",
       "1451    Clarkson Pharmachoice now has Wet Wipes, Lysol...\n",
       "1489    Muy Buendía actualmente vamos viviendo tiempos...\n",
       "1503    I’m trying to make my mother a #MotherDaybaske...\n",
       "1517    😁 SCORE!!!! What a great deal I found on eBay!...\n",
       "1557    #698 #sugarboybakery #sugarboybakerycustomcake...\n",
       "1695    #buenosdias😎🙋🏻🌞  trabajando ando!!! #oficina💻📝...\n",
       "1824    If i gotta wear a #facemask it's gonna be cute...\n",
       "2162    LIFE BEYOND CONTROL .\\n.\\n.\\n.\\n#kiss #illustr...\n",
       "2209    And I still \\nDon’t know if I’m ready \\nFor th...\n",
       "2227    I don't know, do you think this facemask restr...\n",
       "2325    Hottest accessory of the season.\\nDM me to ord...\n",
       "2367    .\\nTeddy Bear\\n.\\n#teddyBear #facemask #Ottawa...\n",
       "2409    It’s not just a statement, it’s my life. 🤴🏽\\n(...\n",
       "2497    Another twist to our new design.  Working on h...\n",
       "2620    The temporary #newnormal #facemask #atwork loo...\n",
       "2694    👐 Hand sanitizer with Vitamin E and Aloe Vera....\n",
       "2741    So it was worth standing in line because today...\n",
       "2879    Jeep is packed and ready to unload more isopro...\n",
       "3547    #tothemooncandy #tothemooncandystore #tothemoo...\n",
       "3560    Can you believe it's been 7 weeks and our publ...\n",
       "3581    https://t.co/acQ97bw61n #bioglitter #handsanit...\n",
       "3587    ⁣\\nGot the essentials on deck, anyone make coc...\n",
       "3602    New from thenakedbeeofficial #handsanitizer an...\n",
       "3636    At Fan/Joy your health and well being is our t...\n",
       "3708    Making sure all our motorsports friends are cl...\n",
       "3715    Thanks to @CaseysCut\\nFor doing their part to ...\n",
       "3808    Preparing for our re-opening. We are prepared,...\n",
       "3879    Stopped by @thedubhglasd for some @noteworthyg...\n",
       "3910    In between filling bottles of #handsanitizer a...\n",
       "3928    Do you have what is needed to be safe ? shield...\n",
       "3932    Very easy to start shopping for your essential...\n",
       "4003    Looking for #handsanitizer? Just bought some f...\n",
       "4078    Get your chihaircare #handsanitizer while supp...\n",
       "4123    EFFECTIVE &amp; AFFORDABLE HAND SANITIZER\\n\\n#...\n",
       "4129    @moodsmusic Now Hand Sanitizer, Face Mask &amp...\n",
       "4373    Made some hand sanitizer. WHO's recipe. Added ...\n",
       "4408    📣hand sanitizer update📣\\n\\nWe are happy to say...\n",
       "5332    Amazon fail🤦‍♀️\\n.\\n.\\namazon #amazon #amazonp...\n",
       "5345    Y'all were so good with \"apple\" movies, let's ...\n",
       "5400    #Newspaper must use as #toiletpaper\\nचीन अब इं...\n",
       "5444    It’s Charmin //\\n#adrianemorales\\n.\\n.\\n.\\n#lo...\n",
       "5585    OMG found this AND toilet paper. #breadflour #...\n",
       "5587    Happy #mothersday2020 during #shelterinplace #...\n",
       "5700    @GabrielBerlin https://t.co/fdI0rrvceH\\n\\nFind...\n",
       "5741    Our local grocery store FINALLY got toilet pap...\n",
       "5824    #coronavirus #alonetogether #flattenthecurve #...\n",
       "6134    Shoutout to sushimakiofkendall for the 🧻 with ...\n",
       "6170    #thestruggleisreal #toiletpaper\\n#corona19 #qu...\n",
       "6175    Incredible, there are people like this in the ...\n",
       "Name: tweets, dtype: object"
      ]
     },
     "execution_count": 40,
     "metadata": {},
     "output_type": "execute_result"
    }
   ],
   "source": [
    "# Reading over the tweets to see what the content was like\n",
    "# Getting a feel for what we need to use\n",
    "tweets_with_geo['tweets']"
   ]
  },
  {
   "cell_type": "markdown",
   "metadata": {},
   "source": [
    "# Looking at Individual Tweets and Coordinates"
   ]
  },
  {
   "cell_type": "code",
   "execution_count": 67,
   "metadata": {},
   "outputs": [
    {
     "data": {
      "text/plain": [
       "'Kendalls Hardware'"
      ]
     },
     "execution_count": 67,
     "metadata": {},
     "output_type": "execute_result"
    }
   ],
   "source": [
    "tweets_with_geo.iloc[1]['name']"
   ]
  },
  {
   "cell_type": "code",
   "execution_count": 70,
   "metadata": {},
   "outputs": [
    {
     "data": {
      "text/plain": [
       "\"{'type': 'Point', 'coordinates': [-79.62653, 43.5154]}\""
      ]
     },
     "execution_count": 70,
     "metadata": {},
     "output_type": "execute_result"
    }
   ],
   "source": [
    "tweets_with_geo.iloc[6]['coordinates']"
   ]
  },
  {
   "cell_type": "code",
   "execution_count": 73,
   "metadata": {},
   "outputs": [
    {
     "data": {
      "text/plain": [
       "\"{'type': 'Point', 'coordinates': [-96.6797152, 32.8695093]}\""
      ]
     },
     "execution_count": 73,
     "metadata": {},
     "output_type": "execute_result"
    }
   ],
   "source": [
    "tweets_with_geo.iloc[19]['coordinates']"
   ]
  },
  {
   "cell_type": "code",
   "execution_count": 77,
   "metadata": {},
   "outputs": [
    {
     "data": {
      "text/plain": [
       "'👐 Hand sanitizer with Vitamin E and Aloe Vera. Made with 70% isopropyl alcohol.  250ml bottle.  \\n\\n😷 We have disposa… https://t.co/DzY2jqFE7s'"
      ]
     },
     "execution_count": 77,
     "metadata": {},
     "output_type": "execute_result"
    }
   ],
   "source": [
    "tweets_with_geo.iloc[21]['tweets']"
   ]
  },
  {
   "cell_type": "code",
   "execution_count": 81,
   "metadata": {},
   "outputs": [
    {
     "data": {
      "text/plain": [
       "'Jeep is packed and ready to unload more isopropyl alcohol (limit 1), hydrogen peroxide (limit 1), gloves (limit 1 b… https://t.co/aL1HmQfMFp'"
      ]
     },
     "execution_count": 81,
     "metadata": {},
     "output_type": "execute_result"
    }
   ],
   "source": [
    "tweets_with_geo.iloc[23]['tweets']"
   ]
  },
  {
   "cell_type": "code",
   "execution_count": 83,
   "metadata": {},
   "outputs": [
    {
     "data": {
      "text/plain": [
       "'https://t.co/acQ97bw61n #bioglitter #handsanitizer #oceansparkles #misstheocean @ Queensbury, New York https://t.co/ZWjclBYbzF'"
      ]
     },
     "execution_count": 83,
     "metadata": {},
     "output_type": "execute_result"
    }
   ],
   "source": [
    "tweets_with_geo.iloc[26]['tweets']"
   ]
  },
  {
   "cell_type": "code",
   "execution_count": 84,
   "metadata": {},
   "outputs": [
    {
     "data": {
      "text/plain": [
       "'\\u2063\\nGot the essentials on deck, anyone make cocktails with this? I kid.... I kid.... 🙃 \\u2063\\n\\nAlways, Whiskey Love 🥃\\u2063… https://t.co/YM5PA5Vdhf'"
      ]
     },
     "execution_count": 84,
     "metadata": {},
     "output_type": "execute_result"
    }
   ],
   "source": [
    "tweets_with_geo.iloc[27]['tweets']"
   ]
  },
  {
   "cell_type": "code",
   "execution_count": 88,
   "metadata": {},
   "outputs": [
    {
     "data": {
      "text/plain": [
       "'New from thenakedbeeofficial #handsanitizer and a new #lotion fragence Vanilla Rose and honey!! Call and order your… https://t.co/Rj251fBqCW'"
      ]
     },
     "execution_count": 88,
     "metadata": {},
     "output_type": "execute_result"
    }
   ],
   "source": [
    "tweets_with_geo.iloc[28]['tweets']"
   ]
  },
  {
   "cell_type": "code",
   "execution_count": 91,
   "metadata": {},
   "outputs": [
    {
     "data": {
      "text/plain": [
       "\"{'type': 'Point', 'coordinates': [-80.14427771, 43.79039901]}\""
      ]
     },
     "execution_count": 91,
     "metadata": {},
     "output_type": "execute_result"
    }
   ],
   "source": [
    "tweets_with_geo.iloc[29]['coordinates']"
   ]
  },
  {
   "cell_type": "code",
   "execution_count": 96,
   "metadata": {},
   "outputs": [
    {
     "data": {
      "text/plain": [
       "\"{'type': 'Point', 'coordinates': [-86.772124, 36.140987]}\""
      ]
     },
     "execution_count": 96,
     "metadata": {},
     "output_type": "execute_result"
    }
   ],
   "source": [
    "tweets_with_geo.iloc[34]['coordinates']"
   ]
  },
  {
   "cell_type": "code",
   "execution_count": 103,
   "metadata": {},
   "outputs": [
    {
     "data": {
      "text/plain": [
       "\"{'type': 'Point', 'coordinates': [-87.8311, 42.1296]}\""
      ]
     },
     "execution_count": 103,
     "metadata": {},
     "output_type": "execute_result"
    }
   ],
   "source": [
    "tweets_with_geo.iloc[38]['coordinates']"
   ]
  },
  {
   "cell_type": "code",
   "execution_count": 109,
   "metadata": {},
   "outputs": [
    {
     "data": {
      "text/plain": [
       "\"{'type': 'Point', 'coordinates': [-123.12409861, 47.22992075]}\""
      ]
     },
     "execution_count": 109,
     "metadata": {},
     "output_type": "execute_result"
    }
   ],
   "source": [
    "tweets_with_geo.iloc[47]['coordinates']"
   ]
  },
  {
   "cell_type": "code",
   "execution_count": 64,
   "metadata": {},
   "outputs": [
    {
     "data": {
      "text/plain": [
       "'Our local grocery store FINALLY got toilet paper back in stock for the first time since the pandemic started. Can’t… https://t.co/YSfHGiJHxh'"
      ]
     },
     "execution_count": 64,
     "metadata": {},
     "output_type": "execute_result"
    }
   ],
   "source": [
    "tweets_with_geo.iloc[50]['tweets']"
   ]
  }
 ],
 "metadata": {
  "kernelspec": {
   "display_name": "Python 3",
   "language": "python",
   "name": "python3"
  },
  "language_info": {
   "codemirror_mode": {
    "name": "ipython",
    "version": 3
   },
   "file_extension": ".py",
   "mimetype": "text/x-python",
   "name": "python",
   "nbconvert_exporter": "python",
   "pygments_lexer": "ipython3",
   "version": "3.7.6"
  }
 },
 "nbformat": 4,
 "nbformat_minor": 4
}
