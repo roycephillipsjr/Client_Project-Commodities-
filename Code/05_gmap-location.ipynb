{
 "cells": [
  {
   "cell_type": "markdown",
   "metadata": {},
   "source": [
    "# COVID-19 Commodities on Google Map "
   ]
  },
  {
   "cell_type": "markdown",
   "metadata": {},
   "source": [
    "### Imports"
   ]
  },
  {
   "cell_type": "code",
   "execution_count": 1,
   "metadata": {},
   "outputs": [],
   "source": [
    "import gmaps\n",
    "import gmaps.datasets\n",
    "import pandas as pd\n",
    "\n"
   ]
  },
  {
   "cell_type": "markdown",
   "metadata": {},
   "source": [
    "### Google Map API key"
   ]
  },
  {
   "cell_type": "code",
   "execution_count": 2,
   "metadata": {},
   "outputs": [],
   "source": [
    "gmaps.configure(api_key = 'google_api_key_here')\n"
   ]
  },
  {
   "cell_type": "markdown",
   "metadata": {},
   "source": [
    "### Commodity and GPS Location"
   ]
  },
  {
   "cell_type": "code",
   "execution_count": 3,
   "metadata": {},
   "outputs": [
    {
     "data": {
      "application/vnd.jupyter.widget-view+json": {
       "model_id": "98c4807b18d4473ebe7162e190c80d0e",
       "version_major": 2,
       "version_minor": 0
      },
      "text/plain": [
       "Figure(layout=FigureLayout(height='420px'))"
      ]
     },
     "metadata": {},
     "output_type": "display_data"
    }
   ],
   "source": [
    "covid_commodity = [\n",
    "    {'commodity': 'clorox wipes', 'location': (44.96629517, -93.07325315), 'note': 'Kendalls Hdwr'},\n",
    "    {'commodity': 'lysol & wipes', 'location': (43.5154, -79.62653), 'note': 'Clarkson Pharma'},\n",
    "    {'commodity': 'masks', 'location': (32.8695093, -96.6797152), 'note': 'Leather Maters'},\n",
    "    {'commodity': 'sanitizer', 'location': (32.8695093, -96.6797152), 'note': 'Rolling spokes'},\n",
    "    {'commodity': 'IPA, H2O2, gloves', 'location': (35.91572, -79.06188), 'note': '501 pharmacy'},\n",
    "    {'commodity': 'sanitizer', 'location': (46.50105096, -84.34907913), 'note': 'Das Gift House'},\n",
    "    {'commodity': 'sanitizer', 'location': (43.79039901, -80.14427771), 'note': 'Chef Pam Joy'},\n",
    "    {'commodity': 'sanitizer', 'location': (36.140987, -86.772124), 'note': 'Nashville Craft'},\n",
    "    {'commodity': 'sanitizer', 'location': (42.1296, -87.8311), 'note': 'Teddie Kossof Salon Spa'},\n",
    "    {'commodity': 'clorox', 'location': (35.0511565, -85.6600176), 'note': ''},\n",
    "    {'commodity': 'clorox & lysol', 'location': (34.0207895, -118.4119065), 'note': 'Ace'},\n",
    "    {'commodity': 'lysol', 'location': (43.629311, -79.2725695), 'note': 'Walmart'},\n",
    "    {'commodity': 'lysol & clorox', 'location': (43.555244, -79.616073), 'note': 'Clarkson Pharma'},\n",
    "    {'commodity': 'toilet paper', 'location': (36.20000805, -86.791549), 'note': ''},\n",
    "    {'commodity': 'toilet paper', 'location': (36.20000805, -86.791549), 'note': ''},\n",
    "    {'commodity': 'toilet paper', 'location': (34.19999172983301, -118.37995234955565), 'note': 'Ace'},\n",
    "    {'commodity': 'sanitizer', 'location': (40.5833894, -75.5588775), 'note': ''},\n",
    "    {'commodity': 'sanitizer', 'location': (26.275662, -80.096419), 'note': 'Zakia Miami'},\n",
    "    {'commodity': 'sanitizer', 'location': (45.424871, -122.79185375), 'note': 'Rose City Distilling'},\n",
    "    {'commodity': 'sanitizer', 'location': (35.2264115, -81.0378265), 'note': 'Carolina Rum'},\n",
    "    {'commodity': 'sanitizer & mask', 'location': (33.7671944, -84.433106), 'note': ''},\n",
    "    {'commodity': 'sanitizer', 'location': (34.22887575, -118.235241), 'note': 'Ralphs Grocery'},\n",
    "    {'commodity': 'sanitizer', 'location': (40.787501, -74.1271651), 'note': 'Gaspers Best'},\n",
    "    {'commodity': 'sanitizer', 'location': (45.53640175, -122.63090815), 'note': 'Long D. Pharma'},\n",
    "    {'commodity': 'sanitizer', 'location': (42.24571305, -83.6018025), 'note': 'Butters Hygienics'},\n",
    "    {'commodity': 'sanitizer', 'location': (45.53640175, -122.63090815), 'note': 'Long D. Pharma'},\n",
    "    {'commodity': 'toilet paper', 'location': (47.2315974, -123.1239325), 'note': ''},\n",
    "    {'commodity': 'toilet paper', 'location': (42.308346, 0.3142995), 'note': 'AM Cleaning'},\n",
    "    {'commodity': 'toilet paper', 'location': (29.8384948, -95.4464865), 'note': ''},\n",
    "    {'commodity': 'toilet paper', 'location': (35.1170026, -106.6327181), 'note': 'Costco'},\n",
    "    {'commodity': 'toilet paper', 'location': (33.75133608416934, -84.32186124438131), 'note': 'ATL Vision'},\n",
    "    {'commodity': 'toilet paper', 'location': (39.1018362, -77.5530482), 'note': 'CS Hubscher'},\n",
    "    {'commodity': 'toilet paper', 'location': (41.144642, -73.3425245), 'note': ''},\n",
    "    {'commodity': 'toilet paper', 'location': (30.199115109821854, -81.82494668408846), 'note': ''},\n",
    "    {'commodity': 'toilet paper', 'location': (25.6719858, -80.34711985), 'note': ''}\n",
    "    \n",
    "]\n",
    "\n",
    "comm_locations = [comm['location'] for comm in covid_commodity]\n",
    "info_box_template = \"\"\"\n",
    "<dl>\n",
    "<dt>Commodity</dt><dd>{commodity}</dd>\n",
    "<dt>Note</dt><dd>{note}</dd>\n",
    "</dl>\n",
    "\"\"\"\n",
    "comm_info = [info_box_template.format(**i) for i in covid_commodity]\n",
    "\n",
    "marker_layer = gmaps.marker_layer(comm_locations, info_box_content=comm_info)\n",
    "fig = gmaps.figure()\n",
    "fig.add_layer(marker_layer)\n",
    "fig"
   ]
  },
  {
   "cell_type": "code",
   "execution_count": null,
   "metadata": {},
   "outputs": [],
   "source": []
  }
 ],
 "metadata": {
  "kernelspec": {
   "display_name": "Python 3",
   "language": "python",
   "name": "python3"
  },
  "language_info": {
   "codemirror_mode": {
    "name": "ipython",
    "version": 3
   },
   "file_extension": ".py",
   "mimetype": "text/x-python",
   "name": "python",
   "nbconvert_exporter": "python",
   "pygments_lexer": "ipython3",
   "version": "3.7.6"
  }
 },
 "nbformat": 4,
 "nbformat_minor": 4
}
